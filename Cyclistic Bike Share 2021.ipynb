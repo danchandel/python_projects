{
 "cells": [
  {
   "cell_type": "markdown",
   "id": "6742812d",
   "metadata": {},
   "source": [
    "# Cyclistic\n",
    "### Bike Share 2021\n",
    "\n",
    "The director of marketing believes the company’s future success depends on **maximizing the number of annual memberships**.\n",
    "\n",
    "That's why the team wants to understand **how casual riders and annual members use Cyclistic bikes differently**. "
   ]
  },
  {
   "cell_type": "markdown",
   "id": "8480bf15",
   "metadata": {},
   "source": [
    "## Importing pandas and numpy libraries to manipulate data"
   ]
  },
  {
   "cell_type": "code",
   "execution_count": 1,
   "id": "ef538cd5",
   "metadata": {},
   "outputs": [],
   "source": [
    "import pandas as pd\n",
    "import numpy as np"
   ]
  },
  {
   "cell_type": "markdown",
   "id": "242b74d5",
   "metadata": {},
   "source": [
    "### Loading data into pandas dataframes"
   ]
  },
  {
   "cell_type": "code",
   "execution_count": 2,
   "id": "0308a3ff",
   "metadata": {},
   "outputs": [],
   "source": [
    "# 2021\n",
    "trips_2021_Q101 = pd.read_csv(\"/Users/danbalictar/Documents/Python_Folder/Cyclistic Project/Datasets/202101-divvy-tripdata.csv\")\n",
    "trips_2021_Q102 = pd.read_csv(\"/Users/danbalictar/Documents/Python_Folder/Cyclistic Project/Datasets/202102-divvy-tripdata.csv\")\n",
    "trips_2021_Q103 = pd.read_csv(\"/Users/danbalictar/Documents/Python_Folder/Cyclistic Project/Datasets/202103-divvy-tripdata.csv\")\n",
    "trips_2021_Q204 = pd.read_csv(\"/Users/danbalictar/Documents/Python_Folder/Cyclistic Project/Datasets/202104-divvy-tripdata.csv\")\n",
    "trips_2021_Q205 = pd.read_csv(\"/Users/danbalictar/Documents/Python_Folder/Cyclistic Project/Datasets/202105-divvy-tripdata.csv\")\n",
    "trips_2021_Q206 = pd.read_csv(\"/Users/danbalictar/Documents/Python_Folder/Cyclistic Project/Datasets/202106-divvy-tripdata.csv\")\n",
    "trips_2021_Q307 = pd.read_csv(\"/Users/danbalictar/Documents/Python_Folder/Cyclistic Project/Datasets/202107-divvy-tripdata.csv\")\n",
    "trips_2021_Q308 = pd.read_csv(\"/Users/danbalictar/Documents/Python_Folder/Cyclistic Project/Datasets/202108-divvy-tripdata.csv\")\n",
    "trips_2021_Q309 = pd.read_csv(\"/Users/danbalictar/Documents/Python_Folder/Cyclistic Project/Datasets/202109-divvy-tripdata.csv\")\n",
    "trips_2021_Q410 = pd.read_csv(\"/Users/danbalictar/Documents/Python_Folder/Cyclistic Project/Datasets/202110-divvy-tripdata.csv\")\n",
    "trips_2021_Q411 = pd.read_csv(\"/Users/danbalictar/Documents/Python_Folder/Cyclistic Project/Datasets/202111-divvy-tripdata.csv\")\n",
    "trips_2021_Q412 = pd.read_csv(\"/Users/danbalictar/Documents/Python_Folder/Cyclistic Project/Datasets/202112-divvy-tripdata.csv\")"
   ]
  },
  {
   "cell_type": "markdown",
   "id": "ef798ca4",
   "metadata": {},
   "source": [
    "### Merge dataframes into one for easier access"
   ]
  },
  {
   "cell_type": "code",
   "execution_count": 7,
   "id": "905dc8fc",
   "metadata": {},
   "outputs": [],
   "source": [
    "dfnames = [trips_2021_Q101,trips_2021_Q102,trips_2021_Q103,trips_2021_Q204,trips_2021_Q205,trips_2021_Q206,trips_2021_Q307,trips_2021_Q308,trips_2021_Q309,trips_2021_Q410,trips_2021_Q411,trips_2021_Q412,]\n",
    "\n",
    "df = pd.concat(dfnames)"
   ]
  },
  {
   "cell_type": "code",
   "execution_count": 6,
   "id": "8b1c429b",
   "metadata": {},
   "outputs": [
    {
     "data": {
      "text/plain": [
       "Index(['ride_id', 'rideable_type', 'started_at', 'ended_at',\n",
       "       'start_station_name', 'start_station_id', 'end_station_name',\n",
       "       'end_station_id', 'start_lat', 'start_lng', 'end_lat', 'end_lng',\n",
       "       'member_casual'],\n",
       "      dtype='object')"
      ]
     },
     "execution_count": 6,
     "metadata": {},
     "output_type": "execute_result"
    }
   ],
   "source": [
    "df.columns"
   ]
  },
  {
   "cell_type": "markdown",
   "id": "f3b76d97",
   "metadata": {},
   "source": [
    "### Cleaning"
   ]
  },
  {
   "cell_type": "markdown",
   "id": "1a9d585b",
   "metadata": {},
   "source": [
    "Dropping all with NA or Null values"
   ]
  },
  {
   "cell_type": "code",
   "execution_count": 19,
   "id": "fa2a2640",
   "metadata": {},
   "outputs": [],
   "source": [
    "df = df.dropna()"
   ]
  },
  {
   "cell_type": "code",
   "execution_count": 20,
   "id": "9d2dee6c",
   "metadata": {},
   "outputs": [
    {
     "data": {
      "text/plain": [
       "ride_id               0\n",
       "rideable_type         0\n",
       "started_at            0\n",
       "ended_at              0\n",
       "start_station_name    0\n",
       "start_station_id      0\n",
       "end_station_name      0\n",
       "end_station_id        0\n",
       "start_lat             0\n",
       "start_lng             0\n",
       "end_lat               0\n",
       "end_lng               0\n",
       "member_casual         0\n",
       "dtype: int64"
      ]
     },
     "execution_count": 20,
     "metadata": {},
     "output_type": "execute_result"
    }
   ],
   "source": [
    "df.isnull().sum()"
   ]
  },
  {
   "cell_type": "markdown",
   "id": "c62b9e61",
   "metadata": {},
   "source": [
    "Checked duplicated rows by ride_id"
   ]
  },
  {
   "cell_type": "code",
   "execution_count": 23,
   "id": "f07cd29a",
   "metadata": {},
   "outputs": [
    {
     "data": {
      "text/plain": [
       "0"
      ]
     },
     "execution_count": 23,
     "metadata": {},
     "output_type": "execute_result"
    }
   ],
   "source": [
    "df.duplicated(subset = \"ride_id\").sum()"
   ]
  },
  {
   "cell_type": "markdown",
   "id": "ff971d6b",
   "metadata": {},
   "source": [
    "### Changing date string to datetime"
   ]
  },
  {
   "cell_type": "code",
   "execution_count": 11,
   "id": "99c12bae",
   "metadata": {
    "scrolled": true
   },
   "outputs": [
    {
     "data": {
      "text/plain": [
       "ride_id                       object\n",
       "rideable_type                 object\n",
       "started_at            datetime64[ns]\n",
       "ended_at              datetime64[ns]\n",
       "start_station_name            object\n",
       "start_station_id              object\n",
       "end_station_name              object\n",
       "end_station_id                object\n",
       "start_lat                    float64\n",
       "start_lng                    float64\n",
       "end_lat                      float64\n",
       "end_lng                      float64\n",
       "member_casual                 object\n",
       "dtype: object"
      ]
     },
     "execution_count": 11,
     "metadata": {},
     "output_type": "execute_result"
    }
   ],
   "source": [
    "df[['started_at','ended_at']] = df[['started_at','ended_at']].apply(pd.to_datetime)\n",
    "df.dtypes"
   ]
  },
  {
   "cell_type": "markdown",
   "id": "657db5b1",
   "metadata": {},
   "source": [
    "### Changing to categorical types"
   ]
  },
  {
   "cell_type": "markdown",
   "id": "7be432be",
   "metadata": {},
   "source": [
    "Categorical are a Pandas data type. A string variable consisting of only a few different values. Converting such a string variable to a categorical variable will save some memory. The lexical order of a variable is not the same as the logical order (“one”, “two”, “three”)."
   ]
  },
  {
   "cell_type": "code",
   "execution_count": 24,
   "id": "3e6d8d04",
   "metadata": {
    "scrolled": true
   },
   "outputs": [
    {
     "data": {
      "text/plain": [
       "ride_id                       object\n",
       "rideable_type               category\n",
       "started_at            datetime64[ns]\n",
       "ended_at              datetime64[ns]\n",
       "start_station_name            object\n",
       "start_station_id              object\n",
       "end_station_name              object\n",
       "end_station_id                object\n",
       "start_lat                    float64\n",
       "start_lng                    float64\n",
       "end_lat                      float64\n",
       "end_lng                      float64\n",
       "member_casual               category\n",
       "dtype: object"
      ]
     },
     "execution_count": 24,
     "metadata": {},
     "output_type": "execute_result"
    }
   ],
   "source": [
    "# Converting some columns as categorical data\n",
    "df = df.astype({\"rideable_type\":\"category\",\"member_casual\":\"category\"})\n",
    "df.dtypes"
   ]
  },
  {
   "cell_type": "markdown",
   "id": "cb38a8a7",
   "metadata": {},
   "source": [
    "Added specific columns for Month, Day, Year, Hour, and total ride length for time-related analysis"
   ]
  },
  {
   "cell_type": "code",
   "execution_count": 34,
   "id": "3cabc1b1",
   "metadata": {},
   "outputs": [
    {
     "data": {
      "text/html": [
       "<div>\n",
       "<style scoped>\n",
       "    .dataframe tbody tr th:only-of-type {\n",
       "        vertical-align: middle;\n",
       "    }\n",
       "\n",
       "    .dataframe tbody tr th {\n",
       "        vertical-align: top;\n",
       "    }\n",
       "\n",
       "    .dataframe thead th {\n",
       "        text-align: right;\n",
       "    }\n",
       "</style>\n",
       "<table border=\"1\" class=\"dataframe\">\n",
       "  <thead>\n",
       "    <tr style=\"text-align: right;\">\n",
       "      <th></th>\n",
       "      <th>ride_id</th>\n",
       "      <th>rideable_type</th>\n",
       "      <th>started_at</th>\n",
       "      <th>ended_at</th>\n",
       "      <th>start_station_name</th>\n",
       "      <th>start_station_id</th>\n",
       "      <th>end_station_name</th>\n",
       "      <th>end_station_id</th>\n",
       "      <th>start_lat</th>\n",
       "      <th>start_lng</th>\n",
       "      <th>end_lat</th>\n",
       "      <th>end_lng</th>\n",
       "      <th>member_casual</th>\n",
       "      <th>ride_length</th>\n",
       "      <th>month</th>\n",
       "      <th>date</th>\n",
       "      <th>day</th>\n",
       "      <th>hour</th>\n",
       "    </tr>\n",
       "  </thead>\n",
       "  <tbody>\n",
       "    <tr>\n",
       "      <th>9</th>\n",
       "      <td>B9F73448DFBE0D45</td>\n",
       "      <td>classic_bike</td>\n",
       "      <td>2021-01-24 19:15:38</td>\n",
       "      <td>2021-01-24 19:22:51</td>\n",
       "      <td>California Ave &amp; Cortez St</td>\n",
       "      <td>17660</td>\n",
       "      <td>Wood St &amp; Augusta Blvd</td>\n",
       "      <td>657</td>\n",
       "      <td>41.900363</td>\n",
       "      <td>-87.696704</td>\n",
       "      <td>41.899181</td>\n",
       "      <td>-87.672200</td>\n",
       "      <td>member</td>\n",
       "      <td>7.216667</td>\n",
       "      <td>Jan</td>\n",
       "      <td>24</td>\n",
       "      <td>Sunday</td>\n",
       "      <td>19</td>\n",
       "    </tr>\n",
       "    <tr>\n",
       "      <th>10</th>\n",
       "      <td>457C7F4B5D3DA135</td>\n",
       "      <td>electric_bike</td>\n",
       "      <td>2021-01-23 12:57:38</td>\n",
       "      <td>2021-01-23 13:02:10</td>\n",
       "      <td>California Ave &amp; Cortez St</td>\n",
       "      <td>17660</td>\n",
       "      <td>California Ave &amp; North Ave</td>\n",
       "      <td>13258</td>\n",
       "      <td>41.900406</td>\n",
       "      <td>-87.696733</td>\n",
       "      <td>41.910435</td>\n",
       "      <td>-87.696890</td>\n",
       "      <td>member</td>\n",
       "      <td>4.533333</td>\n",
       "      <td>Jan</td>\n",
       "      <td>23</td>\n",
       "      <td>Saturday</td>\n",
       "      <td>12</td>\n",
       "    </tr>\n",
       "    <tr>\n",
       "      <th>11</th>\n",
       "      <td>57C750326F9FDABE</td>\n",
       "      <td>electric_bike</td>\n",
       "      <td>2021-01-09 15:28:04</td>\n",
       "      <td>2021-01-09 15:37:51</td>\n",
       "      <td>California Ave &amp; Cortez St</td>\n",
       "      <td>17660</td>\n",
       "      <td>Wood St &amp; Augusta Blvd</td>\n",
       "      <td>657</td>\n",
       "      <td>41.900374</td>\n",
       "      <td>-87.696688</td>\n",
       "      <td>41.899180</td>\n",
       "      <td>-87.672178</td>\n",
       "      <td>casual</td>\n",
       "      <td>9.783333</td>\n",
       "      <td>Jan</td>\n",
       "      <td>9</td>\n",
       "      <td>Saturday</td>\n",
       "      <td>15</td>\n",
       "    </tr>\n",
       "    <tr>\n",
       "      <th>12</th>\n",
       "      <td>4D518C65E338D070</td>\n",
       "      <td>electric_bike</td>\n",
       "      <td>2021-01-09 15:28:57</td>\n",
       "      <td>2021-01-09 15:37:54</td>\n",
       "      <td>California Ave &amp; Cortez St</td>\n",
       "      <td>17660</td>\n",
       "      <td>Wood St &amp; Augusta Blvd</td>\n",
       "      <td>657</td>\n",
       "      <td>41.900379</td>\n",
       "      <td>-87.696716</td>\n",
       "      <td>41.899149</td>\n",
       "      <td>-87.672177</td>\n",
       "      <td>casual</td>\n",
       "      <td>8.950000</td>\n",
       "      <td>Jan</td>\n",
       "      <td>9</td>\n",
       "      <td>Saturday</td>\n",
       "      <td>15</td>\n",
       "    </tr>\n",
       "    <tr>\n",
       "      <th>13</th>\n",
       "      <td>9D08A3AFF410474D</td>\n",
       "      <td>classic_bike</td>\n",
       "      <td>2021-01-24 15:56:59</td>\n",
       "      <td>2021-01-24 16:07:08</td>\n",
       "      <td>California Ave &amp; Cortez St</td>\n",
       "      <td>17660</td>\n",
       "      <td>Wood St &amp; Augusta Blvd</td>\n",
       "      <td>657</td>\n",
       "      <td>41.900363</td>\n",
       "      <td>-87.696704</td>\n",
       "      <td>41.899181</td>\n",
       "      <td>-87.672200</td>\n",
       "      <td>casual</td>\n",
       "      <td>10.150000</td>\n",
       "      <td>Jan</td>\n",
       "      <td>24</td>\n",
       "      <td>Sunday</td>\n",
       "      <td>15</td>\n",
       "    </tr>\n",
       "    <tr>\n",
       "      <th>14</th>\n",
       "      <td>49FCE1F8598F12C6</td>\n",
       "      <td>electric_bike</td>\n",
       "      <td>2021-01-22 15:15:28</td>\n",
       "      <td>2021-01-22 15:36:01</td>\n",
       "      <td>California Ave &amp; Cortez St</td>\n",
       "      <td>17660</td>\n",
       "      <td>Wells St &amp; Elm St</td>\n",
       "      <td>KA1504000135</td>\n",
       "      <td>41.900373</td>\n",
       "      <td>-87.696790</td>\n",
       "      <td>41.903272</td>\n",
       "      <td>-87.634457</td>\n",
       "      <td>member</td>\n",
       "      <td>20.550000</td>\n",
       "      <td>Jan</td>\n",
       "      <td>22</td>\n",
       "      <td>Friday</td>\n",
       "      <td>15</td>\n",
       "    </tr>\n",
       "    <tr>\n",
       "      <th>15</th>\n",
       "      <td>0FEED5C2C8749A1C</td>\n",
       "      <td>classic_bike</td>\n",
       "      <td>2021-01-05 10:33:12</td>\n",
       "      <td>2021-01-05 10:39:12</td>\n",
       "      <td>California Ave &amp; Cortez St</td>\n",
       "      <td>17660</td>\n",
       "      <td>Sacramento Blvd &amp; Franklin Blvd</td>\n",
       "      <td>KA1504000113</td>\n",
       "      <td>41.900363</td>\n",
       "      <td>-87.696704</td>\n",
       "      <td>41.890469</td>\n",
       "      <td>-87.702608</td>\n",
       "      <td>member</td>\n",
       "      <td>6.000000</td>\n",
       "      <td>Jan</td>\n",
       "      <td>5</td>\n",
       "      <td>Tuesday</td>\n",
       "      <td>10</td>\n",
       "    </tr>\n",
       "    <tr>\n",
       "      <th>16</th>\n",
       "      <td>E276FD43BDED6420</td>\n",
       "      <td>classic_bike</td>\n",
       "      <td>2021-01-30 11:59:16</td>\n",
       "      <td>2021-01-30 12:03:44</td>\n",
       "      <td>California Ave &amp; Cortez St</td>\n",
       "      <td>17660</td>\n",
       "      <td>Western Ave &amp; Walton St</td>\n",
       "      <td>KA1504000103</td>\n",
       "      <td>41.900363</td>\n",
       "      <td>-87.696704</td>\n",
       "      <td>41.898418</td>\n",
       "      <td>-87.686596</td>\n",
       "      <td>member</td>\n",
       "      <td>4.466667</td>\n",
       "      <td>Jan</td>\n",
       "      <td>30</td>\n",
       "      <td>Saturday</td>\n",
       "      <td>11</td>\n",
       "    </tr>\n",
       "    <tr>\n",
       "      <th>17</th>\n",
       "      <td>88BFCF66C2D585EC</td>\n",
       "      <td>electric_bike</td>\n",
       "      <td>2021-01-27 07:27:09</td>\n",
       "      <td>2021-01-27 07:45:32</td>\n",
       "      <td>California Ave &amp; Cortez St</td>\n",
       "      <td>17660</td>\n",
       "      <td>Damen Ave &amp; Clybourn Ave</td>\n",
       "      <td>13271</td>\n",
       "      <td>41.900313</td>\n",
       "      <td>-87.696792</td>\n",
       "      <td>41.931841</td>\n",
       "      <td>-87.677814</td>\n",
       "      <td>member</td>\n",
       "      <td>18.383333</td>\n",
       "      <td>Jan</td>\n",
       "      <td>27</td>\n",
       "      <td>Wednesday</td>\n",
       "      <td>7</td>\n",
       "    </tr>\n",
       "    <tr>\n",
       "      <th>18</th>\n",
       "      <td>8BD6F6510F5C8BD2</td>\n",
       "      <td>electric_bike</td>\n",
       "      <td>2021-01-15 08:54:41</td>\n",
       "      <td>2021-01-15 09:11:46</td>\n",
       "      <td>California Ave &amp; Cortez St</td>\n",
       "      <td>17660</td>\n",
       "      <td>Damen Ave &amp; Clybourn Ave</td>\n",
       "      <td>13271</td>\n",
       "      <td>41.900356</td>\n",
       "      <td>-87.696627</td>\n",
       "      <td>41.931922</td>\n",
       "      <td>-87.677856</td>\n",
       "      <td>member</td>\n",
       "      <td>17.083333</td>\n",
       "      <td>Jan</td>\n",
       "      <td>15</td>\n",
       "      <td>Friday</td>\n",
       "      <td>8</td>\n",
       "    </tr>\n",
       "  </tbody>\n",
       "</table>\n",
       "</div>"
      ],
      "text/plain": [
       "             ride_id  rideable_type          started_at            ended_at  \\\n",
       "9   B9F73448DFBE0D45   classic_bike 2021-01-24 19:15:38 2021-01-24 19:22:51   \n",
       "10  457C7F4B5D3DA135  electric_bike 2021-01-23 12:57:38 2021-01-23 13:02:10   \n",
       "11  57C750326F9FDABE  electric_bike 2021-01-09 15:28:04 2021-01-09 15:37:51   \n",
       "12  4D518C65E338D070  electric_bike 2021-01-09 15:28:57 2021-01-09 15:37:54   \n",
       "13  9D08A3AFF410474D   classic_bike 2021-01-24 15:56:59 2021-01-24 16:07:08   \n",
       "14  49FCE1F8598F12C6  electric_bike 2021-01-22 15:15:28 2021-01-22 15:36:01   \n",
       "15  0FEED5C2C8749A1C   classic_bike 2021-01-05 10:33:12 2021-01-05 10:39:12   \n",
       "16  E276FD43BDED6420   classic_bike 2021-01-30 11:59:16 2021-01-30 12:03:44   \n",
       "17  88BFCF66C2D585EC  electric_bike 2021-01-27 07:27:09 2021-01-27 07:45:32   \n",
       "18  8BD6F6510F5C8BD2  electric_bike 2021-01-15 08:54:41 2021-01-15 09:11:46   \n",
       "\n",
       "            start_station_name start_station_id  \\\n",
       "9   California Ave & Cortez St            17660   \n",
       "10  California Ave & Cortez St            17660   \n",
       "11  California Ave & Cortez St            17660   \n",
       "12  California Ave & Cortez St            17660   \n",
       "13  California Ave & Cortez St            17660   \n",
       "14  California Ave & Cortez St            17660   \n",
       "15  California Ave & Cortez St            17660   \n",
       "16  California Ave & Cortez St            17660   \n",
       "17  California Ave & Cortez St            17660   \n",
       "18  California Ave & Cortez St            17660   \n",
       "\n",
       "                   end_station_name end_station_id  start_lat  start_lng  \\\n",
       "9            Wood St & Augusta Blvd            657  41.900363 -87.696704   \n",
       "10       California Ave & North Ave          13258  41.900406 -87.696733   \n",
       "11           Wood St & Augusta Blvd            657  41.900374 -87.696688   \n",
       "12           Wood St & Augusta Blvd            657  41.900379 -87.696716   \n",
       "13           Wood St & Augusta Blvd            657  41.900363 -87.696704   \n",
       "14                Wells St & Elm St   KA1504000135  41.900373 -87.696790   \n",
       "15  Sacramento Blvd & Franklin Blvd   KA1504000113  41.900363 -87.696704   \n",
       "16          Western Ave & Walton St   KA1504000103  41.900363 -87.696704   \n",
       "17         Damen Ave & Clybourn Ave          13271  41.900313 -87.696792   \n",
       "18         Damen Ave & Clybourn Ave          13271  41.900356 -87.696627   \n",
       "\n",
       "      end_lat    end_lng member_casual  ride_length month  date        day  \\\n",
       "9   41.899181 -87.672200        member     7.216667   Jan    24     Sunday   \n",
       "10  41.910435 -87.696890        member     4.533333   Jan    23   Saturday   \n",
       "11  41.899180 -87.672178        casual     9.783333   Jan     9   Saturday   \n",
       "12  41.899149 -87.672177        casual     8.950000   Jan     9   Saturday   \n",
       "13  41.899181 -87.672200        casual    10.150000   Jan    24     Sunday   \n",
       "14  41.903272 -87.634457        member    20.550000   Jan    22     Friday   \n",
       "15  41.890469 -87.702608        member     6.000000   Jan     5    Tuesday   \n",
       "16  41.898418 -87.686596        member     4.466667   Jan    30   Saturday   \n",
       "17  41.931841 -87.677814        member    18.383333   Jan    27  Wednesday   \n",
       "18  41.931922 -87.677856        member    17.083333   Jan    15     Friday   \n",
       "\n",
       "    hour  \n",
       "9     19  \n",
       "10    12  \n",
       "11    15  \n",
       "12    15  \n",
       "13    15  \n",
       "14    15  \n",
       "15    10  \n",
       "16    11  \n",
       "17     7  \n",
       "18     8  "
      ]
     },
     "execution_count": 34,
     "metadata": {},
     "output_type": "execute_result"
    }
   ],
   "source": [
    "df[\"ride_length\"] = (df[\"ended_at\"] - df[\"started_at\"])/pd.Timedelta(minutes = 1)\n",
    "df[\"month\"] = df[\"started_at\"].dt.month_name().str.slice(stop=3)\n",
    "df[\"date\"] = df[\"started_at\"].dt.day\n",
    "df[\"day\"] = df[\"started_at\"].dt.day_name()\n",
    "df[\"hour\"] = df[\"started_at\"].dt.hour\n",
    "\n",
    "df.head(10)"
   ]
  },
  {
   "cell_type": "markdown",
   "id": "0e0896f2",
   "metadata": {},
   "source": [
    "Converting the day and months column into categorical type"
   ]
  },
  {
   "cell_type": "code",
   "execution_count": 37,
   "id": "bcfd20ed",
   "metadata": {},
   "outputs": [],
   "source": [
    "# days categories\n",
    "days = ['Monday', 'Tuesday', 'Wednesday', 'Thursday', 'Friday', 'Saturday', 'Sunday']\n",
    "df[\"day\"] = pd.Categorical(df[\"day\"], categories = days)\n",
    "\n",
    "# months categories\n",
    "months = [\"Jan\", \"Feb\", \"Mar\", \"Apr\", \"May\", \"Jun\", \"Jul\", \"Aug\", \"Sep\", \"Oct\", \"Nov\", \"Dec\"]\n",
    "df[\"month\"] = pd.Categorical(df[\"month\"], categories = months)"
   ]
  },
  {
   "cell_type": "code",
   "execution_count": 38,
   "id": "d24a429b",
   "metadata": {},
   "outputs": [
    {
     "data": {
      "text/plain": [
       "ride_id                       object\n",
       "rideable_type               category\n",
       "started_at            datetime64[ns]\n",
       "ended_at              datetime64[ns]\n",
       "start_station_name            object\n",
       "start_station_id              object\n",
       "end_station_name              object\n",
       "end_station_id                object\n",
       "start_lat                    float64\n",
       "start_lng                    float64\n",
       "end_lat                      float64\n",
       "end_lng                      float64\n",
       "member_casual               category\n",
       "ride_length                  float64\n",
       "month                       category\n",
       "date                           int64\n",
       "day                         category\n",
       "hour                           int64\n",
       "dtype: object"
      ]
     },
     "execution_count": 38,
     "metadata": {},
     "output_type": "execute_result"
    }
   ],
   "source": [
    "df.dtypes"
   ]
  },
  {
   "cell_type": "markdown",
   "id": "3e3a02d9",
   "metadata": {},
   "source": [
    "### Further cleaning\n",
    "\n",
    "I'll be needing to remove the impossible data of those with ride_length of < 0. "
   ]
  },
  {
   "cell_type": "code",
   "execution_count": 48,
   "id": "4457f1a1",
   "metadata": {},
   "outputs": [
    {
     "data": {
      "text/plain": [
       "116"
      ]
     },
     "execution_count": 48,
     "metadata": {},
     "output_type": "execute_result"
    }
   ],
   "source": [
    "# Count of rows with < 0 ride length\n",
    "(df['ride_length']<0).sum()"
   ]
  },
  {
   "cell_type": "markdown",
   "id": "2e5f1525",
   "metadata": {},
   "source": [
    "I created a new dataframe that only contains rows with > 0 ride_length"
   ]
  },
  {
   "cell_type": "code",
   "execution_count": 49,
   "id": "38bc20aa",
   "metadata": {},
   "outputs": [
    {
     "data": {
      "text/html": [
       "<div>\n",
       "<style scoped>\n",
       "    .dataframe tbody tr th:only-of-type {\n",
       "        vertical-align: middle;\n",
       "    }\n",
       "\n",
       "    .dataframe tbody tr th {\n",
       "        vertical-align: top;\n",
       "    }\n",
       "\n",
       "    .dataframe thead th {\n",
       "        text-align: right;\n",
       "    }\n",
       "</style>\n",
       "<table border=\"1\" class=\"dataframe\">\n",
       "  <thead>\n",
       "    <tr style=\"text-align: right;\">\n",
       "      <th></th>\n",
       "      <th>ride_id</th>\n",
       "      <th>rideable_type</th>\n",
       "      <th>started_at</th>\n",
       "      <th>ended_at</th>\n",
       "      <th>start_station_name</th>\n",
       "      <th>start_station_id</th>\n",
       "      <th>end_station_name</th>\n",
       "      <th>end_station_id</th>\n",
       "      <th>start_lat</th>\n",
       "      <th>start_lng</th>\n",
       "      <th>end_lat</th>\n",
       "      <th>end_lng</th>\n",
       "      <th>member_casual</th>\n",
       "      <th>ride_length</th>\n",
       "      <th>month</th>\n",
       "      <th>date</th>\n",
       "      <th>day</th>\n",
       "      <th>hour</th>\n",
       "    </tr>\n",
       "  </thead>\n",
       "  <tbody>\n",
       "    <tr>\n",
       "      <th>9</th>\n",
       "      <td>B9F73448DFBE0D45</td>\n",
       "      <td>classic_bike</td>\n",
       "      <td>2021-01-24 19:15:38</td>\n",
       "      <td>2021-01-24 19:22:51</td>\n",
       "      <td>California Ave &amp; Cortez St</td>\n",
       "      <td>17660</td>\n",
       "      <td>Wood St &amp; Augusta Blvd</td>\n",
       "      <td>657</td>\n",
       "      <td>41.900363</td>\n",
       "      <td>-87.696704</td>\n",
       "      <td>41.899181</td>\n",
       "      <td>-87.672200</td>\n",
       "      <td>member</td>\n",
       "      <td>7.216667</td>\n",
       "      <td>Jan</td>\n",
       "      <td>24</td>\n",
       "      <td>Sunday</td>\n",
       "      <td>19</td>\n",
       "    </tr>\n",
       "    <tr>\n",
       "      <th>10</th>\n",
       "      <td>457C7F4B5D3DA135</td>\n",
       "      <td>electric_bike</td>\n",
       "      <td>2021-01-23 12:57:38</td>\n",
       "      <td>2021-01-23 13:02:10</td>\n",
       "      <td>California Ave &amp; Cortez St</td>\n",
       "      <td>17660</td>\n",
       "      <td>California Ave &amp; North Ave</td>\n",
       "      <td>13258</td>\n",
       "      <td>41.900406</td>\n",
       "      <td>-87.696733</td>\n",
       "      <td>41.910435</td>\n",
       "      <td>-87.696890</td>\n",
       "      <td>member</td>\n",
       "      <td>4.533333</td>\n",
       "      <td>Jan</td>\n",
       "      <td>23</td>\n",
       "      <td>Saturday</td>\n",
       "      <td>12</td>\n",
       "    </tr>\n",
       "    <tr>\n",
       "      <th>11</th>\n",
       "      <td>57C750326F9FDABE</td>\n",
       "      <td>electric_bike</td>\n",
       "      <td>2021-01-09 15:28:04</td>\n",
       "      <td>2021-01-09 15:37:51</td>\n",
       "      <td>California Ave &amp; Cortez St</td>\n",
       "      <td>17660</td>\n",
       "      <td>Wood St &amp; Augusta Blvd</td>\n",
       "      <td>657</td>\n",
       "      <td>41.900374</td>\n",
       "      <td>-87.696688</td>\n",
       "      <td>41.899180</td>\n",
       "      <td>-87.672178</td>\n",
       "      <td>casual</td>\n",
       "      <td>9.783333</td>\n",
       "      <td>Jan</td>\n",
       "      <td>9</td>\n",
       "      <td>Saturday</td>\n",
       "      <td>15</td>\n",
       "    </tr>\n",
       "    <tr>\n",
       "      <th>12</th>\n",
       "      <td>4D518C65E338D070</td>\n",
       "      <td>electric_bike</td>\n",
       "      <td>2021-01-09 15:28:57</td>\n",
       "      <td>2021-01-09 15:37:54</td>\n",
       "      <td>California Ave &amp; Cortez St</td>\n",
       "      <td>17660</td>\n",
       "      <td>Wood St &amp; Augusta Blvd</td>\n",
       "      <td>657</td>\n",
       "      <td>41.900379</td>\n",
       "      <td>-87.696716</td>\n",
       "      <td>41.899149</td>\n",
       "      <td>-87.672177</td>\n",
       "      <td>casual</td>\n",
       "      <td>8.950000</td>\n",
       "      <td>Jan</td>\n",
       "      <td>9</td>\n",
       "      <td>Saturday</td>\n",
       "      <td>15</td>\n",
       "    </tr>\n",
       "    <tr>\n",
       "      <th>13</th>\n",
       "      <td>9D08A3AFF410474D</td>\n",
       "      <td>classic_bike</td>\n",
       "      <td>2021-01-24 15:56:59</td>\n",
       "      <td>2021-01-24 16:07:08</td>\n",
       "      <td>California Ave &amp; Cortez St</td>\n",
       "      <td>17660</td>\n",
       "      <td>Wood St &amp; Augusta Blvd</td>\n",
       "      <td>657</td>\n",
       "      <td>41.900363</td>\n",
       "      <td>-87.696704</td>\n",
       "      <td>41.899181</td>\n",
       "      <td>-87.672200</td>\n",
       "      <td>casual</td>\n",
       "      <td>10.150000</td>\n",
       "      <td>Jan</td>\n",
       "      <td>24</td>\n",
       "      <td>Sunday</td>\n",
       "      <td>15</td>\n",
       "    </tr>\n",
       "    <tr>\n",
       "      <th>...</th>\n",
       "      <td>...</td>\n",
       "      <td>...</td>\n",
       "      <td>...</td>\n",
       "      <td>...</td>\n",
       "      <td>...</td>\n",
       "      <td>...</td>\n",
       "      <td>...</td>\n",
       "      <td>...</td>\n",
       "      <td>...</td>\n",
       "      <td>...</td>\n",
       "      <td>...</td>\n",
       "      <td>...</td>\n",
       "      <td>...</td>\n",
       "      <td>...</td>\n",
       "      <td>...</td>\n",
       "      <td>...</td>\n",
       "      <td>...</td>\n",
       "      <td>...</td>\n",
       "    </tr>\n",
       "    <tr>\n",
       "      <th>247528</th>\n",
       "      <td>E06135F650553F21</td>\n",
       "      <td>electric_bike</td>\n",
       "      <td>2021-12-07 15:55:37</td>\n",
       "      <td>2021-12-07 16:00:17</td>\n",
       "      <td>Canal St &amp; Madison St</td>\n",
       "      <td>13341</td>\n",
       "      <td>Desplaines St &amp; Kinzie St</td>\n",
       "      <td>TA1306000003</td>\n",
       "      <td>41.881372</td>\n",
       "      <td>-87.640042</td>\n",
       "      <td>41.888456</td>\n",
       "      <td>-87.644336</td>\n",
       "      <td>casual</td>\n",
       "      <td>4.666667</td>\n",
       "      <td>Dec</td>\n",
       "      <td>7</td>\n",
       "      <td>Tuesday</td>\n",
       "      <td>15</td>\n",
       "    </tr>\n",
       "    <tr>\n",
       "      <th>247532</th>\n",
       "      <td>8DF0DBB049906332</td>\n",
       "      <td>electric_bike</td>\n",
       "      <td>2021-12-01 16:50:52</td>\n",
       "      <td>2021-12-01 16:55:18</td>\n",
       "      <td>Canal St &amp; Madison St</td>\n",
       "      <td>13341</td>\n",
       "      <td>Desplaines St &amp; Kinzie St</td>\n",
       "      <td>TA1306000003</td>\n",
       "      <td>41.881999</td>\n",
       "      <td>-87.639265</td>\n",
       "      <td>41.888415</td>\n",
       "      <td>-87.644342</td>\n",
       "      <td>casual</td>\n",
       "      <td>4.433333</td>\n",
       "      <td>Dec</td>\n",
       "      <td>1</td>\n",
       "      <td>Wednesday</td>\n",
       "      <td>16</td>\n",
       "    </tr>\n",
       "    <tr>\n",
       "      <th>247536</th>\n",
       "      <td>CF407BBC3B9FAD63</td>\n",
       "      <td>electric_bike</td>\n",
       "      <td>2021-12-06 19:37:50</td>\n",
       "      <td>2021-12-06 19:44:51</td>\n",
       "      <td>Canal St &amp; Madison St</td>\n",
       "      <td>13341</td>\n",
       "      <td>Kingsbury St &amp; Kinzie St</td>\n",
       "      <td>KA1503000043</td>\n",
       "      <td>41.882123</td>\n",
       "      <td>-87.640053</td>\n",
       "      <td>41.889106</td>\n",
       "      <td>-87.638862</td>\n",
       "      <td>member</td>\n",
       "      <td>7.016667</td>\n",
       "      <td>Dec</td>\n",
       "      <td>6</td>\n",
       "      <td>Monday</td>\n",
       "      <td>19</td>\n",
       "    </tr>\n",
       "    <tr>\n",
       "      <th>247537</th>\n",
       "      <td>60BB69EBF5440E92</td>\n",
       "      <td>electric_bike</td>\n",
       "      <td>2021-12-02 08:57:04</td>\n",
       "      <td>2021-12-02 09:05:21</td>\n",
       "      <td>Canal St &amp; Madison St</td>\n",
       "      <td>13341</td>\n",
       "      <td>Dearborn St &amp; Monroe St</td>\n",
       "      <td>TA1305000006</td>\n",
       "      <td>41.881956</td>\n",
       "      <td>-87.639955</td>\n",
       "      <td>41.880254</td>\n",
       "      <td>-87.629603</td>\n",
       "      <td>member</td>\n",
       "      <td>8.283333</td>\n",
       "      <td>Dec</td>\n",
       "      <td>2</td>\n",
       "      <td>Thursday</td>\n",
       "      <td>8</td>\n",
       "    </tr>\n",
       "    <tr>\n",
       "      <th>247539</th>\n",
       "      <td>37AC57E34B2E7E97</td>\n",
       "      <td>classic_bike</td>\n",
       "      <td>2021-12-13 08:45:32</td>\n",
       "      <td>2021-12-13 08:49:09</td>\n",
       "      <td>Michigan Ave &amp; Jackson Blvd</td>\n",
       "      <td>TA1309000002</td>\n",
       "      <td>Dearborn St &amp; Monroe St</td>\n",
       "      <td>TA1305000006</td>\n",
       "      <td>41.877850</td>\n",
       "      <td>-87.624080</td>\n",
       "      <td>41.881320</td>\n",
       "      <td>-87.629521</td>\n",
       "      <td>member</td>\n",
       "      <td>3.616667</td>\n",
       "      <td>Dec</td>\n",
       "      <td>13</td>\n",
       "      <td>Monday</td>\n",
       "      <td>8</td>\n",
       "    </tr>\n",
       "  </tbody>\n",
       "</table>\n",
       "<p>4588104 rows × 18 columns</p>\n",
       "</div>"
      ],
      "text/plain": [
       "                 ride_id  rideable_type          started_at  \\\n",
       "9       B9F73448DFBE0D45   classic_bike 2021-01-24 19:15:38   \n",
       "10      457C7F4B5D3DA135  electric_bike 2021-01-23 12:57:38   \n",
       "11      57C750326F9FDABE  electric_bike 2021-01-09 15:28:04   \n",
       "12      4D518C65E338D070  electric_bike 2021-01-09 15:28:57   \n",
       "13      9D08A3AFF410474D   classic_bike 2021-01-24 15:56:59   \n",
       "...                  ...            ...                 ...   \n",
       "247528  E06135F650553F21  electric_bike 2021-12-07 15:55:37   \n",
       "247532  8DF0DBB049906332  electric_bike 2021-12-01 16:50:52   \n",
       "247536  CF407BBC3B9FAD63  electric_bike 2021-12-06 19:37:50   \n",
       "247537  60BB69EBF5440E92  electric_bike 2021-12-02 08:57:04   \n",
       "247539  37AC57E34B2E7E97   classic_bike 2021-12-13 08:45:32   \n",
       "\n",
       "                  ended_at           start_station_name start_station_id  \\\n",
       "9      2021-01-24 19:22:51   California Ave & Cortez St            17660   \n",
       "10     2021-01-23 13:02:10   California Ave & Cortez St            17660   \n",
       "11     2021-01-09 15:37:51   California Ave & Cortez St            17660   \n",
       "12     2021-01-09 15:37:54   California Ave & Cortez St            17660   \n",
       "13     2021-01-24 16:07:08   California Ave & Cortez St            17660   \n",
       "...                    ...                          ...              ...   \n",
       "247528 2021-12-07 16:00:17        Canal St & Madison St            13341   \n",
       "247532 2021-12-01 16:55:18        Canal St & Madison St            13341   \n",
       "247536 2021-12-06 19:44:51        Canal St & Madison St            13341   \n",
       "247537 2021-12-02 09:05:21        Canal St & Madison St            13341   \n",
       "247539 2021-12-13 08:49:09  Michigan Ave & Jackson Blvd     TA1309000002   \n",
       "\n",
       "                  end_station_name end_station_id  start_lat  start_lng  \\\n",
       "9           Wood St & Augusta Blvd            657  41.900363 -87.696704   \n",
       "10      California Ave & North Ave          13258  41.900406 -87.696733   \n",
       "11          Wood St & Augusta Blvd            657  41.900374 -87.696688   \n",
       "12          Wood St & Augusta Blvd            657  41.900379 -87.696716   \n",
       "13          Wood St & Augusta Blvd            657  41.900363 -87.696704   \n",
       "...                            ...            ...        ...        ...   \n",
       "247528   Desplaines St & Kinzie St   TA1306000003  41.881372 -87.640042   \n",
       "247532   Desplaines St & Kinzie St   TA1306000003  41.881999 -87.639265   \n",
       "247536    Kingsbury St & Kinzie St   KA1503000043  41.882123 -87.640053   \n",
       "247537     Dearborn St & Monroe St   TA1305000006  41.881956 -87.639955   \n",
       "247539     Dearborn St & Monroe St   TA1305000006  41.877850 -87.624080   \n",
       "\n",
       "          end_lat    end_lng member_casual  ride_length month  date  \\\n",
       "9       41.899181 -87.672200        member     7.216667   Jan    24   \n",
       "10      41.910435 -87.696890        member     4.533333   Jan    23   \n",
       "11      41.899180 -87.672178        casual     9.783333   Jan     9   \n",
       "12      41.899149 -87.672177        casual     8.950000   Jan     9   \n",
       "13      41.899181 -87.672200        casual    10.150000   Jan    24   \n",
       "...           ...        ...           ...          ...   ...   ...   \n",
       "247528  41.888456 -87.644336        casual     4.666667   Dec     7   \n",
       "247532  41.888415 -87.644342        casual     4.433333   Dec     1   \n",
       "247536  41.889106 -87.638862        member     7.016667   Dec     6   \n",
       "247537  41.880254 -87.629603        member     8.283333   Dec     2   \n",
       "247539  41.881320 -87.629521        member     3.616667   Dec    13   \n",
       "\n",
       "              day  hour  \n",
       "9          Sunday    19  \n",
       "10       Saturday    12  \n",
       "11       Saturday    15  \n",
       "12       Saturday    15  \n",
       "13         Sunday    15  \n",
       "...           ...   ...  \n",
       "247528    Tuesday    15  \n",
       "247532  Wednesday    16  \n",
       "247536     Monday    19  \n",
       "247537   Thursday     8  \n",
       "247539     Monday     8  \n",
       "\n",
       "[4588104 rows x 18 columns]"
      ]
     },
     "execution_count": 49,
     "metadata": {},
     "output_type": "execute_result"
    }
   ],
   "source": [
    "df2 = df[df['ride_length']>0]\n",
    "df2"
   ]
  },
  {
   "cell_type": "markdown",
   "id": "1f736d8e",
   "metadata": {},
   "source": [
    "Then removed the columns that are not time-related for my analysis ('start_lat', 'start_lng','end_lat','end_lng')"
   ]
  },
  {
   "cell_type": "code",
   "execution_count": 50,
   "id": "cbcdec0c",
   "metadata": {},
   "outputs": [
    {
     "data": {
      "text/html": [
       "<div>\n",
       "<style scoped>\n",
       "    .dataframe tbody tr th:only-of-type {\n",
       "        vertical-align: middle;\n",
       "    }\n",
       "\n",
       "    .dataframe tbody tr th {\n",
       "        vertical-align: top;\n",
       "    }\n",
       "\n",
       "    .dataframe thead th {\n",
       "        text-align: right;\n",
       "    }\n",
       "</style>\n",
       "<table border=\"1\" class=\"dataframe\">\n",
       "  <thead>\n",
       "    <tr style=\"text-align: right;\">\n",
       "      <th></th>\n",
       "      <th>ride_id</th>\n",
       "      <th>rideable_type</th>\n",
       "      <th>started_at</th>\n",
       "      <th>ended_at</th>\n",
       "      <th>start_station_name</th>\n",
       "      <th>start_station_id</th>\n",
       "      <th>end_station_name</th>\n",
       "      <th>end_station_id</th>\n",
       "      <th>member_casual</th>\n",
       "      <th>ride_length</th>\n",
       "      <th>month</th>\n",
       "      <th>date</th>\n",
       "      <th>day</th>\n",
       "      <th>hour</th>\n",
       "    </tr>\n",
       "  </thead>\n",
       "  <tbody>\n",
       "    <tr>\n",
       "      <th>9</th>\n",
       "      <td>B9F73448DFBE0D45</td>\n",
       "      <td>classic_bike</td>\n",
       "      <td>2021-01-24 19:15:38</td>\n",
       "      <td>2021-01-24 19:22:51</td>\n",
       "      <td>California Ave &amp; Cortez St</td>\n",
       "      <td>17660</td>\n",
       "      <td>Wood St &amp; Augusta Blvd</td>\n",
       "      <td>657</td>\n",
       "      <td>member</td>\n",
       "      <td>7.216667</td>\n",
       "      <td>Jan</td>\n",
       "      <td>24</td>\n",
       "      <td>Sunday</td>\n",
       "      <td>19</td>\n",
       "    </tr>\n",
       "    <tr>\n",
       "      <th>10</th>\n",
       "      <td>457C7F4B5D3DA135</td>\n",
       "      <td>electric_bike</td>\n",
       "      <td>2021-01-23 12:57:38</td>\n",
       "      <td>2021-01-23 13:02:10</td>\n",
       "      <td>California Ave &amp; Cortez St</td>\n",
       "      <td>17660</td>\n",
       "      <td>California Ave &amp; North Ave</td>\n",
       "      <td>13258</td>\n",
       "      <td>member</td>\n",
       "      <td>4.533333</td>\n",
       "      <td>Jan</td>\n",
       "      <td>23</td>\n",
       "      <td>Saturday</td>\n",
       "      <td>12</td>\n",
       "    </tr>\n",
       "    <tr>\n",
       "      <th>11</th>\n",
       "      <td>57C750326F9FDABE</td>\n",
       "      <td>electric_bike</td>\n",
       "      <td>2021-01-09 15:28:04</td>\n",
       "      <td>2021-01-09 15:37:51</td>\n",
       "      <td>California Ave &amp; Cortez St</td>\n",
       "      <td>17660</td>\n",
       "      <td>Wood St &amp; Augusta Blvd</td>\n",
       "      <td>657</td>\n",
       "      <td>casual</td>\n",
       "      <td>9.783333</td>\n",
       "      <td>Jan</td>\n",
       "      <td>9</td>\n",
       "      <td>Saturday</td>\n",
       "      <td>15</td>\n",
       "    </tr>\n",
       "    <tr>\n",
       "      <th>12</th>\n",
       "      <td>4D518C65E338D070</td>\n",
       "      <td>electric_bike</td>\n",
       "      <td>2021-01-09 15:28:57</td>\n",
       "      <td>2021-01-09 15:37:54</td>\n",
       "      <td>California Ave &amp; Cortez St</td>\n",
       "      <td>17660</td>\n",
       "      <td>Wood St &amp; Augusta Blvd</td>\n",
       "      <td>657</td>\n",
       "      <td>casual</td>\n",
       "      <td>8.950000</td>\n",
       "      <td>Jan</td>\n",
       "      <td>9</td>\n",
       "      <td>Saturday</td>\n",
       "      <td>15</td>\n",
       "    </tr>\n",
       "    <tr>\n",
       "      <th>13</th>\n",
       "      <td>9D08A3AFF410474D</td>\n",
       "      <td>classic_bike</td>\n",
       "      <td>2021-01-24 15:56:59</td>\n",
       "      <td>2021-01-24 16:07:08</td>\n",
       "      <td>California Ave &amp; Cortez St</td>\n",
       "      <td>17660</td>\n",
       "      <td>Wood St &amp; Augusta Blvd</td>\n",
       "      <td>657</td>\n",
       "      <td>casual</td>\n",
       "      <td>10.150000</td>\n",
       "      <td>Jan</td>\n",
       "      <td>24</td>\n",
       "      <td>Sunday</td>\n",
       "      <td>15</td>\n",
       "    </tr>\n",
       "  </tbody>\n",
       "</table>\n",
       "</div>"
      ],
      "text/plain": [
       "             ride_id  rideable_type          started_at            ended_at  \\\n",
       "9   B9F73448DFBE0D45   classic_bike 2021-01-24 19:15:38 2021-01-24 19:22:51   \n",
       "10  457C7F4B5D3DA135  electric_bike 2021-01-23 12:57:38 2021-01-23 13:02:10   \n",
       "11  57C750326F9FDABE  electric_bike 2021-01-09 15:28:04 2021-01-09 15:37:51   \n",
       "12  4D518C65E338D070  electric_bike 2021-01-09 15:28:57 2021-01-09 15:37:54   \n",
       "13  9D08A3AFF410474D   classic_bike 2021-01-24 15:56:59 2021-01-24 16:07:08   \n",
       "\n",
       "            start_station_name start_station_id            end_station_name  \\\n",
       "9   California Ave & Cortez St            17660      Wood St & Augusta Blvd   \n",
       "10  California Ave & Cortez St            17660  California Ave & North Ave   \n",
       "11  California Ave & Cortez St            17660      Wood St & Augusta Blvd   \n",
       "12  California Ave & Cortez St            17660      Wood St & Augusta Blvd   \n",
       "13  California Ave & Cortez St            17660      Wood St & Augusta Blvd   \n",
       "\n",
       "   end_station_id member_casual  ride_length month  date       day  hour  \n",
       "9             657        member     7.216667   Jan    24    Sunday    19  \n",
       "10          13258        member     4.533333   Jan    23  Saturday    12  \n",
       "11            657        casual     9.783333   Jan     9  Saturday    15  \n",
       "12            657        casual     8.950000   Jan     9  Saturday    15  \n",
       "13            657        casual    10.150000   Jan    24    Sunday    15  "
      ]
     },
     "execution_count": 50,
     "metadata": {},
     "output_type": "execute_result"
    }
   ],
   "source": [
    "df2 = df2.drop([\"start_lat\",\"start_lng\",\"end_lat\",\"end_lng\"], axis = 1)\n",
    "df2.head()"
   ]
  },
  {
   "cell_type": "code",
   "execution_count": 52,
   "id": "17d86ac5",
   "metadata": {},
   "outputs": [],
   "source": [
    "#set the number to non scientific\n",
    "pd.set_option('display.float_format', lambda x: '%.0f' % x)"
   ]
  },
  {
   "cell_type": "code",
   "execution_count": 60,
   "id": "e547bd8d",
   "metadata": {},
   "outputs": [
    {
     "data": {
      "text/html": [
       "<div>\n",
       "<style scoped>\n",
       "    .dataframe tbody tr th:only-of-type {\n",
       "        vertical-align: middle;\n",
       "    }\n",
       "\n",
       "    .dataframe tbody tr th {\n",
       "        vertical-align: top;\n",
       "    }\n",
       "\n",
       "    .dataframe thead th {\n",
       "        text-align: right;\n",
       "    }\n",
       "</style>\n",
       "<table border=\"1\" class=\"dataframe\">\n",
       "  <thead>\n",
       "    <tr style=\"text-align: right;\">\n",
       "      <th></th>\n",
       "      <th>ride_length</th>\n",
       "      <th>date</th>\n",
       "      <th>hour</th>\n",
       "    </tr>\n",
       "  </thead>\n",
       "  <tbody>\n",
       "    <tr>\n",
       "      <th>count</th>\n",
       "      <td>4588104</td>\n",
       "      <td>4588104</td>\n",
       "      <td>4588104</td>\n",
       "    </tr>\n",
       "    <tr>\n",
       "      <th>mean</th>\n",
       "      <td>22</td>\n",
       "      <td>15</td>\n",
       "      <td>14</td>\n",
       "    </tr>\n",
       "    <tr>\n",
       "      <th>std</th>\n",
       "      <td>184</td>\n",
       "      <td>9</td>\n",
       "      <td>5</td>\n",
       "    </tr>\n",
       "    <tr>\n",
       "      <th>min</th>\n",
       "      <td>0</td>\n",
       "      <td>1</td>\n",
       "      <td>0</td>\n",
       "    </tr>\n",
       "    <tr>\n",
       "      <th>25%</th>\n",
       "      <td>7</td>\n",
       "      <td>8</td>\n",
       "      <td>11</td>\n",
       "    </tr>\n",
       "    <tr>\n",
       "      <th>50%</th>\n",
       "      <td>12</td>\n",
       "      <td>15</td>\n",
       "      <td>15</td>\n",
       "    </tr>\n",
       "    <tr>\n",
       "      <th>75%</th>\n",
       "      <td>22</td>\n",
       "      <td>23</td>\n",
       "      <td>18</td>\n",
       "    </tr>\n",
       "    <tr>\n",
       "      <th>max</th>\n",
       "      <td>55944</td>\n",
       "      <td>31</td>\n",
       "      <td>23</td>\n",
       "    </tr>\n",
       "  </tbody>\n",
       "</table>\n",
       "</div>"
      ],
      "text/plain": [
       "       ride_length    date    hour\n",
       "count      4588104 4588104 4588104\n",
       "mean            22      15      14\n",
       "std            184       9       5\n",
       "min              0       1       0\n",
       "25%              7       8      11\n",
       "50%             12      15      15\n",
       "75%             22      23      18\n",
       "max          55944      31      23"
      ]
     },
     "execution_count": 60,
     "metadata": {},
     "output_type": "execute_result"
    }
   ],
   "source": [
    "df2.describe(include='number')"
   ]
  },
  {
   "cell_type": "markdown",
   "id": "f503e848",
   "metadata": {},
   "source": [
    "# Descriptive Analysis (DA)"
   ]
  },
  {
   "cell_type": "code",
   "execution_count": 64,
   "id": "0a7e8d5b",
   "metadata": {},
   "outputs": [
    {
     "data": {
      "text/plain": [
       "len        4588104\n",
       "sum      100075379\n",
       "mean            22\n",
       "median          12\n",
       "amax         55944\n",
       "amin             0\n",
       "Name: ride_length, dtype: float64"
      ]
     },
     "execution_count": 64,
     "metadata": {},
     "output_type": "execute_result"
    }
   ],
   "source": [
    "# aggregate to summarize data \n",
    "df2[\"ride_length\"].agg([len,np.sum,np.mean,np.median,np.max,np.min])"
   ]
  },
  {
   "cell_type": "markdown",
   "id": "f1cbed8b",
   "metadata": {},
   "source": [
    "#### Descriptive analysis of casual vs. member"
   ]
  },
  {
   "cell_type": "code",
   "execution_count": 65,
   "id": "ef4b16e3",
   "metadata": {},
   "outputs": [
    {
     "data": {
      "text/html": [
       "<div>\n",
       "<style scoped>\n",
       "    .dataframe tbody tr th:only-of-type {\n",
       "        vertical-align: middle;\n",
       "    }\n",
       "\n",
       "    .dataframe tbody tr th {\n",
       "        vertical-align: top;\n",
       "    }\n",
       "\n",
       "    .dataframe thead th {\n",
       "        text-align: right;\n",
       "    }\n",
       "</style>\n",
       "<table border=\"1\" class=\"dataframe\">\n",
       "  <thead>\n",
       "    <tr style=\"text-align: right;\">\n",
       "      <th></th>\n",
       "      <th>len</th>\n",
       "      <th>sum</th>\n",
       "      <th>mean</th>\n",
       "      <th>median</th>\n",
       "      <th>amax</th>\n",
       "      <th>amin</th>\n",
       "    </tr>\n",
       "    <tr>\n",
       "      <th>member_casual</th>\n",
       "      <th></th>\n",
       "      <th></th>\n",
       "      <th></th>\n",
       "      <th></th>\n",
       "      <th></th>\n",
       "      <th></th>\n",
       "    </tr>\n",
       "  </thead>\n",
       "  <tbody>\n",
       "    <tr>\n",
       "      <th>casual</th>\n",
       "      <td>2048302</td>\n",
       "      <td>66590608</td>\n",
       "      <td>33</td>\n",
       "      <td>17</td>\n",
       "      <td>55944</td>\n",
       "      <td>0</td>\n",
       "    </tr>\n",
       "    <tr>\n",
       "      <th>member</th>\n",
       "      <td>2539802</td>\n",
       "      <td>33484772</td>\n",
       "      <td>13</td>\n",
       "      <td>10</td>\n",
       "      <td>1496</td>\n",
       "      <td>0</td>\n",
       "    </tr>\n",
       "  </tbody>\n",
       "</table>\n",
       "</div>"
      ],
      "text/plain": [
       "                   len      sum  mean  median  amax  amin\n",
       "member_casual                                            \n",
       "casual         2048302 66590608    33      17 55944     0\n",
       "member         2539802 33484772    13      10  1496     0"
      ]
     },
     "execution_count": 65,
     "metadata": {},
     "output_type": "execute_result"
    }
   ],
   "source": [
    "df2.groupby(\"member_casual\")[\"ride_length\"].agg([len,np.sum,np.mean,np.median,np.max,np.min])"
   ]
  },
  {
   "cell_type": "markdown",
   "id": "7126238c",
   "metadata": {},
   "source": [
    "#### Descriptive analysis of ride type by casual vs. member"
   ]
  },
  {
   "cell_type": "code",
   "execution_count": 66,
   "id": "f899c811",
   "metadata": {},
   "outputs": [
    {
     "data": {
      "text/plain": [
       "Index(['ride_id', 'rideable_type', 'started_at', 'ended_at',\n",
       "       'start_station_name', 'start_station_id', 'end_station_name',\n",
       "       'end_station_id', 'member_casual', 'ride_length', 'month', 'date',\n",
       "       'day', 'hour'],\n",
       "      dtype='object')"
      ]
     },
     "execution_count": 66,
     "metadata": {},
     "output_type": "execute_result"
    }
   ],
   "source": [
    "df2.columns"
   ]
  },
  {
   "cell_type": "code",
   "execution_count": 69,
   "id": "20a5fddd",
   "metadata": {},
   "outputs": [
    {
     "data": {
      "text/html": [
       "<div>\n",
       "<style scoped>\n",
       "    .dataframe tbody tr th:only-of-type {\n",
       "        vertical-align: middle;\n",
       "    }\n",
       "\n",
       "    .dataframe tbody tr th {\n",
       "        vertical-align: top;\n",
       "    }\n",
       "\n",
       "    .dataframe thead th {\n",
       "        text-align: right;\n",
       "    }\n",
       "</style>\n",
       "<table border=\"1\" class=\"dataframe\">\n",
       "  <thead>\n",
       "    <tr style=\"text-align: right;\">\n",
       "      <th></th>\n",
       "      <th></th>\n",
       "      <th>len</th>\n",
       "      <th>sum</th>\n",
       "      <th>mean</th>\n",
       "      <th>median</th>\n",
       "      <th>amax</th>\n",
       "      <th>amin</th>\n",
       "    </tr>\n",
       "    <tr>\n",
       "      <th>member_casual</th>\n",
       "      <th>rideable_type</th>\n",
       "      <th></th>\n",
       "      <th></th>\n",
       "      <th></th>\n",
       "      <th></th>\n",
       "      <th></th>\n",
       "      <th></th>\n",
       "    </tr>\n",
       "  </thead>\n",
       "  <tbody>\n",
       "    <tr>\n",
       "      <th rowspan=\"3\" valign=\"top\">casual</th>\n",
       "      <th>classic_bike</th>\n",
       "      <td>1261508</td>\n",
       "      <td>32764300</td>\n",
       "      <td>26</td>\n",
       "      <td>16</td>\n",
       "      <td>1500</td>\n",
       "      <td>0</td>\n",
       "    </tr>\n",
       "    <tr>\n",
       "      <th>docked_bike</th>\n",
       "      <td>312040</td>\n",
       "      <td>24370653</td>\n",
       "      <td>78</td>\n",
       "      <td>29</td>\n",
       "      <td>55944</td>\n",
       "      <td>0</td>\n",
       "    </tr>\n",
       "    <tr>\n",
       "      <th>electric_bike</th>\n",
       "      <td>474754</td>\n",
       "      <td>9455654</td>\n",
       "      <td>20</td>\n",
       "      <td>13</td>\n",
       "      <td>480</td>\n",
       "      <td>0</td>\n",
       "    </tr>\n",
       "    <tr>\n",
       "      <th rowspan=\"3\" valign=\"top\">member</th>\n",
       "      <th>classic_bike</th>\n",
       "      <td>1980328</td>\n",
       "      <td>26794670</td>\n",
       "      <td>14</td>\n",
       "      <td>10</td>\n",
       "      <td>1496</td>\n",
       "      <td>0</td>\n",
       "    </tr>\n",
       "    <tr>\n",
       "      <th>docked_bike</th>\n",
       "      <td>1</td>\n",
       "      <td>3</td>\n",
       "      <td>3</td>\n",
       "      <td>3</td>\n",
       "      <td>3</td>\n",
       "      <td>3</td>\n",
       "    </tr>\n",
       "    <tr>\n",
       "      <th>electric_bike</th>\n",
       "      <td>559473</td>\n",
       "      <td>6690099</td>\n",
       "      <td>12</td>\n",
       "      <td>9</td>\n",
       "      <td>478</td>\n",
       "      <td>0</td>\n",
       "    </tr>\n",
       "  </tbody>\n",
       "</table>\n",
       "</div>"
      ],
      "text/plain": [
       "                                 len      sum  mean  median  amax  amin\n",
       "member_casual rideable_type                                            \n",
       "casual        classic_bike   1261508 32764300    26      16  1500     0\n",
       "              docked_bike     312040 24370653    78      29 55944     0\n",
       "              electric_bike   474754  9455654    20      13   480     0\n",
       "member        classic_bike   1980328 26794670    14      10  1496     0\n",
       "              docked_bike          1        3     3       3     3     3\n",
       "              electric_bike   559473  6690099    12       9   478     0"
      ]
     },
     "execution_count": 69,
     "metadata": {},
     "output_type": "execute_result"
    }
   ],
   "source": [
    "df2.groupby(['member_casual', 'rideable_type'])['ride_length'].agg([len,np.sum,np.mean,np.median,np.max,np.min])"
   ]
  },
  {
   "cell_type": "markdown",
   "id": "78255d1c",
   "metadata": {},
   "source": [
    "#### Descriptive analysis of time(day) by casual vs. member"
   ]
  },
  {
   "cell_type": "code",
   "execution_count": 70,
   "id": "9eacdad1",
   "metadata": {},
   "outputs": [
    {
     "data": {
      "text/html": [
       "<div>\n",
       "<style scoped>\n",
       "    .dataframe tbody tr th:only-of-type {\n",
       "        vertical-align: middle;\n",
       "    }\n",
       "\n",
       "    .dataframe tbody tr th {\n",
       "        vertical-align: top;\n",
       "    }\n",
       "\n",
       "    .dataframe thead th {\n",
       "        text-align: right;\n",
       "    }\n",
       "</style>\n",
       "<table border=\"1\" class=\"dataframe\">\n",
       "  <thead>\n",
       "    <tr style=\"text-align: right;\">\n",
       "      <th></th>\n",
       "      <th></th>\n",
       "      <th>len</th>\n",
       "      <th>sum</th>\n",
       "      <th>mean</th>\n",
       "      <th>median</th>\n",
       "      <th>amax</th>\n",
       "      <th>amin</th>\n",
       "    </tr>\n",
       "    <tr>\n",
       "      <th>member_casual</th>\n",
       "      <th>day</th>\n",
       "      <th></th>\n",
       "      <th></th>\n",
       "      <th></th>\n",
       "      <th></th>\n",
       "      <th></th>\n",
       "      <th></th>\n",
       "    </tr>\n",
       "  </thead>\n",
       "  <tbody>\n",
       "    <tr>\n",
       "      <th rowspan=\"7\" valign=\"top\">casual</th>\n",
       "      <th>Monday</th>\n",
       "      <td>228931</td>\n",
       "      <td>7471676</td>\n",
       "      <td>33</td>\n",
       "      <td>17</td>\n",
       "      <td>31682</td>\n",
       "      <td>0</td>\n",
       "    </tr>\n",
       "    <tr>\n",
       "      <th>Tuesday</th>\n",
       "      <td>214932</td>\n",
       "      <td>6190763</td>\n",
       "      <td>29</td>\n",
       "      <td>15</td>\n",
       "      <td>38923</td>\n",
       "      <td>0</td>\n",
       "    </tr>\n",
       "    <tr>\n",
       "      <th>Wednesday</th>\n",
       "      <td>218129</td>\n",
       "      <td>6166427</td>\n",
       "      <td>28</td>\n",
       "      <td>14</td>\n",
       "      <td>38963</td>\n",
       "      <td>0</td>\n",
       "    </tr>\n",
       "    <tr>\n",
       "      <th>Thursday</th>\n",
       "      <td>224204</td>\n",
       "      <td>6280179</td>\n",
       "      <td>28</td>\n",
       "      <td>14</td>\n",
       "      <td>49107</td>\n",
       "      <td>0</td>\n",
       "    </tr>\n",
       "    <tr>\n",
       "      <th>Friday</th>\n",
       "      <td>290034</td>\n",
       "      <td>8967581</td>\n",
       "      <td>31</td>\n",
       "      <td>16</td>\n",
       "      <td>55692</td>\n",
       "      <td>0</td>\n",
       "    </tr>\n",
       "    <tr>\n",
       "      <th>Saturday</th>\n",
       "      <td>468318</td>\n",
       "      <td>16331375</td>\n",
       "      <td>35</td>\n",
       "      <td>19</td>\n",
       "      <td>55944</td>\n",
       "      <td>0</td>\n",
       "    </tr>\n",
       "    <tr>\n",
       "      <th>Sunday</th>\n",
       "      <td>403754</td>\n",
       "      <td>15182606</td>\n",
       "      <td>38</td>\n",
       "      <td>20</td>\n",
       "      <td>53922</td>\n",
       "      <td>0</td>\n",
       "    </tr>\n",
       "    <tr>\n",
       "      <th rowspan=\"7\" valign=\"top\">member</th>\n",
       "      <th>Monday</th>\n",
       "      <td>346476</td>\n",
       "      <td>4408978</td>\n",
       "      <td>13</td>\n",
       "      <td>9</td>\n",
       "      <td>1474</td>\n",
       "      <td>0</td>\n",
       "    </tr>\n",
       "    <tr>\n",
       "      <th>Tuesday</th>\n",
       "      <td>388120</td>\n",
       "      <td>4808038</td>\n",
       "      <td>12</td>\n",
       "      <td>9</td>\n",
       "      <td>1472</td>\n",
       "      <td>0</td>\n",
       "    </tr>\n",
       "    <tr>\n",
       "      <th>Wednesday</th>\n",
       "      <td>397681</td>\n",
       "      <td>4954370</td>\n",
       "      <td>12</td>\n",
       "      <td>9</td>\n",
       "      <td>1461</td>\n",
       "      <td>0</td>\n",
       "    </tr>\n",
       "    <tr>\n",
       "      <th>Thursday</th>\n",
       "      <td>373469</td>\n",
       "      <td>4613722</td>\n",
       "      <td>12</td>\n",
       "      <td>9</td>\n",
       "      <td>1467</td>\n",
       "      <td>0</td>\n",
       "    </tr>\n",
       "    <tr>\n",
       "      <th>Friday</th>\n",
       "      <td>365774</td>\n",
       "      <td>4679205</td>\n",
       "      <td>13</td>\n",
       "      <td>10</td>\n",
       "      <td>1484</td>\n",
       "      <td>0</td>\n",
       "    </tr>\n",
       "    <tr>\n",
       "      <th>Saturday</th>\n",
       "      <td>357070</td>\n",
       "      <td>5291702</td>\n",
       "      <td>15</td>\n",
       "      <td>11</td>\n",
       "      <td>1496</td>\n",
       "      <td>0</td>\n",
       "    </tr>\n",
       "    <tr>\n",
       "      <th>Sunday</th>\n",
       "      <td>311212</td>\n",
       "      <td>4728757</td>\n",
       "      <td>15</td>\n",
       "      <td>11</td>\n",
       "      <td>1486</td>\n",
       "      <td>0</td>\n",
       "    </tr>\n",
       "  </tbody>\n",
       "</table>\n",
       "</div>"
      ],
      "text/plain": [
       "                            len      sum  mean  median  amax  amin\n",
       "member_casual day                                                 \n",
       "casual        Monday     228931  7471676    33      17 31682     0\n",
       "              Tuesday    214932  6190763    29      15 38923     0\n",
       "              Wednesday  218129  6166427    28      14 38963     0\n",
       "              Thursday   224204  6280179    28      14 49107     0\n",
       "              Friday     290034  8967581    31      16 55692     0\n",
       "              Saturday   468318 16331375    35      19 55944     0\n",
       "              Sunday     403754 15182606    38      20 53922     0\n",
       "member        Monday     346476  4408978    13       9  1474     0\n",
       "              Tuesday    388120  4808038    12       9  1472     0\n",
       "              Wednesday  397681  4954370    12       9  1461     0\n",
       "              Thursday   373469  4613722    12       9  1467     0\n",
       "              Friday     365774  4679205    13      10  1484     0\n",
       "              Saturday   357070  5291702    15      11  1496     0\n",
       "              Sunday     311212  4728757    15      11  1486     0"
      ]
     },
     "execution_count": 70,
     "metadata": {},
     "output_type": "execute_result"
    }
   ],
   "source": [
    "df2.groupby(['member_casual', 'day'])['ride_length'].agg([len,np.sum,np.mean,np.median,np.max,np.min])"
   ]
  },
  {
   "cell_type": "markdown",
   "id": "55d58782",
   "metadata": {},
   "source": [
    "# Visualization"
   ]
  },
  {
   "cell_type": "markdown",
   "id": "726b8c81",
   "metadata": {},
   "source": [
    "Load necessary libraries"
   ]
  },
  {
   "cell_type": "code",
   "execution_count": 71,
   "id": "2e7b685a",
   "metadata": {},
   "outputs": [],
   "source": [
    "import matplotlib as mpl # to help the set up of  default color\n",
    "import matplotlib.pyplot as plt # to help visualization\n",
    "import matplotlib.ticker as ticker # to help the set up of the axis number"
   ]
  },
  {
   "cell_type": "markdown",
   "id": "03942150",
   "metadata": {},
   "source": [
    "### Casual vs Member"
   ]
  },
  {
   "cell_type": "markdown",
   "id": "1c4bbfb5",
   "metadata": {},
   "source": [
    "I used pie chart to visualize what percentage of our customers are members and users"
   ]
  },
  {
   "cell_type": "code",
   "execution_count": 168,
   "id": "60c6a574",
   "metadata": {},
   "outputs": [],
   "source": [
    "# to set up default color for matplotlib visualizations\n",
    "\n",
    "mpl.rcParams['axes.prop_cycle'] = mpl.cycler(color=[\"#00B1D2FF\", \"#FDDB27FF\"]) "
   ]
  },
  {
   "cell_type": "markdown",
   "id": "d4751d59",
   "metadata": {},
   "source": [
    "**44.6%** of our customers are *casual* or non-member. **55.4%** of them are *members*"
   ]
  },
  {
   "cell_type": "code",
   "execution_count": 169,
   "id": "0d96bf9d",
   "metadata": {},
   "outputs": [
    {
     "data": {
      "image/png": "[encoded data removed]",
      "text/plain": [
       "<Figure size 576x396 with 1 Axes>"
      ]
     },
     "metadata": {},
     "output_type": "display_data"
    }
   ],
   "source": [
    "# plotting pie\n",
    "\n",
    "plt.pie(df2[\"member_casual\"].value_counts(ascending = True), autopct=\"%.1f%%\", labels = ['casual', 'member'], labeldistance = 1.2, pctdistance = 0.45)\n",
    "plt.show()"
   ]
  },
  {
   "cell_type": "markdown",
   "id": "75862023",
   "metadata": {},
   "source": [
    "Divided bar for the exact number for each"
   ]
  },
  {
   "cell_type": "code",
   "execution_count": 170,
   "id": "aa8db8c0",
   "metadata": {},
   "outputs": [],
   "source": [
    "df2_cm = df2.groupby(\"member_casual\")[\"ride_length\"].agg([len,np.sum,np.mean])"
   ]
  },
  {
   "cell_type": "code",
   "execution_count": 171,
   "id": "40ab473b",
   "metadata": {},
   "outputs": [
    {
     "data": {
      "image/png": "[encoded data removed]",
      "text/plain": [
       "<Figure size 576x36 with 1 Axes>"
      ]
     },
     "metadata": {},
     "output_type": "display_data"
    }
   ],
   "source": [
    "fig, ax = plt.subplots(figsize = (8,0.5))\n",
    "ax.barh(\" \", df2_cm.loc[\"casual\",\"len\"])\n",
    "ax.barh(\" \", df2_cm.loc[\"member\",\"len\"], left = df2_cm.loc[\"casual\",\"len\"])\n",
    "ax.legend(df2_cm.index, bbox_to_anchor=(1.2, 1.02) )\n",
    "ax.bar_label(ax.containers[0], label_type = 'center', color = 'black', fmt='%.f', labels=[f'{x:,.0f}' for x in ax.containers[0].datavalues])\n",
    "ax.bar_label(ax.containers[1], label_type = 'center', color = 'black', fmt='%.f', labels=[f'{x:,.0f}' for x in ax.containers[1].datavalues])\n",
    "\n",
    "plt.axis('off')\n",
    "plt.show()"
   ]
  },
  {
   "cell_type": "markdown",
   "id": "9b4f131c",
   "metadata": {},
   "source": [
    "I found that even though there are more riders with membership with Cyclistic, non-member or casuals ride longer than members. "
   ]
  },
  {
   "cell_type": "markdown",
   "id": "00793818",
   "metadata": {},
   "source": [
    "#### Total ride length by casual vs. member (mins)"
   ]
  },
  {
   "cell_type": "code",
   "execution_count": 172,
   "id": "d85e83b2",
   "metadata": {},
   "outputs": [
    {
     "data": {
      "image/png": "[encoded data removed]",
      "text/plain": [
       "<Figure size 576x36 with 1 Axes>"
      ]
     },
     "metadata": {},
     "output_type": "display_data"
    }
   ],
   "source": [
    "fig, ax = plt.subplots(figsize = (8,0.5))\n",
    "ax.barh(\" \", df2_cm.loc[\"casual\",\"sum\"])\n",
    "ax.barh(\" \", df2_cm.loc[\"member\",\"sum\"], left = df2_cm.loc[\"casual\",\"sum\"])\n",
    "ax.legend(df2_cm.index, bbox_to_anchor=(1.2, 1.02) )\n",
    "ax.bar_label(ax.containers[0], label_type = 'center', color = 'black',fmt='%.f mins', labels=[f'{x:,.0f}' for x in ax.containers[0].datavalues])\n",
    "ax.bar_label(ax.containers[1], label_type = 'center', color = 'black', fmt='%.f mins', labels=[f'{x:,.0f}' for x in ax.containers[1].datavalues])\n",
    "\n",
    "plt.axis('off')\n",
    "plt.show()"
   ]
  },
  {
   "cell_type": "markdown",
   "id": "e63b8c2f",
   "metadata": {},
   "source": [
    "#### Average ride length by casual vs. member (mins)"
   ]
  },
  {
   "cell_type": "code",
   "execution_count": 173,
   "id": "010380b8",
   "metadata": {},
   "outputs": [
    {
     "data": {
      "image/png": "[encoded data removed]",
      "text/plain": [
       "<Figure size 576x36 with 1 Axes>"
      ]
     },
     "metadata": {},
     "output_type": "display_data"
    }
   ],
   "source": [
    "fig, ax = plt.subplots(figsize = (8,0.5))\n",
    "ax.barh(\" \", df2_cm.loc[\"casual\",\"mean\"])\n",
    "ax.barh(\" \", df2_cm.loc[\"member\",\"mean\"], left = df2_cm.loc[\"casual\",\"mean\"])\n",
    "ax.legend(df2_cm.index, bbox_to_anchor=(1.2, 1.02) )\n",
    "ax.bar_label(ax.containers[0], label_type = 'center', color = 'black',fmt='%.f mins')\n",
    "ax.bar_label(ax.containers[1], label_type = 'center', color = 'black', fmt='%.f mins')\n",
    "\n",
    "plt.axis('off')\n",
    "plt.show()"
   ]
  },
  {
   "cell_type": "markdown",
   "id": "c3365704",
   "metadata": {},
   "source": [
    "#### Total ride of ride type by casual vs. member"
   ]
  },
  {
   "cell_type": "code",
   "execution_count": 175,
   "id": "82a2fae1",
   "metadata": {},
   "outputs": [],
   "source": [
    "#set style and defaul color\n",
    "plt.style.use('seaborn')\n",
    "mpl.rcParams['axes.prop_cycle'] = mpl.cycler(color=[\"#00B1D2FF\", \"#FDDB27FF\"]) "
   ]
  },
  {
   "cell_type": "code",
   "execution_count": 176,
   "id": "688f749b",
   "metadata": {},
   "outputs": [
    {
     "data": {
      "image/png": "[encoded data removed]",
      "text/plain": [
       "<Figure size 576x396 with 1 Axes>"
      ]
     },
     "metadata": {},
     "output_type": "display_data"
    }
   ],
   "source": [
    "df2_rt = df2.pivot_table(index = 'rideable_type', values = 'ride_length', columns = 'member_casual',aggfunc = [len, np.mean])\n",
    "\n",
    "ax = df2_rt[\"len\"].plot.bar()\n",
    "\n",
    "for i, number in enumerate(df2_rt['len']['casual']):\n",
    "    plt.text(x=i-0.25, y= number + 10000, s=str(round((number/1000000),2)) + \"Mn\" )\n",
    "for i, number in enumerate(df2_rt['len']['member']):\n",
    "    plt.text(x=i+.01, y= number + 10000, s=str(round((number/1000000),2)) + \"Mn\" )\n",
    "\n",
    "ax.yaxis.set_major_formatter(ticker.EngFormatter())\n",
    "ax.set(ylabel = \"Total Ride\", title = \"Distribution Total Ride of Ride Type by Casual vs. Member Riders\")\n",
    "\n",
    "plt.show()"
   ]
  },
  {
   "cell_type": "markdown",
   "id": "adf5fbae",
   "metadata": {},
   "source": [
    "#### Average ride length of ride type by casual vs. member"
   ]
  },
  {
   "cell_type": "code",
   "execution_count": 177,
   "id": "f2a2d9d3",
   "metadata": {},
   "outputs": [
    {
     "data": {
      "image/png": "[encoded data removed]",
      "text/plain": [
       "<Figure size 576x396 with 1 Axes>"
      ]
     },
     "metadata": {},
     "output_type": "display_data"
    }
   ],
   "source": [
    "ax = df2_rt[\"mean\"].plot.bar()\n",
    "\n",
    "for i, number in enumerate(df2_rt['mean']['casual']):\n",
    "    plt.text(x=i-0.25, y= number + 1, s=round(number,2))\n",
    "for i, number in enumerate(df2_rt['mean']['member']):\n",
    "    plt.text(x=i, y= number + 1, s=round(number,2))\n",
    "\n",
    "ax.yaxis.set_major_formatter(ticker.EngFormatter())\n",
    "ax.set(ylabel = \"Avg. Ride Length (Mins)\", title = \"Distribution Avg. Ride Length of Ride Type by Casual vs. Member Riders\")\n",
    "\n",
    "plt.show()"
   ]
  },
  {
   "cell_type": "markdown",
   "id": "42b5072e",
   "metadata": {},
   "source": [
    "The above shows that casual riders on docked bike have longer ride length. "
   ]
  },
  {
   "cell_type": "markdown",
   "id": "8780ea17",
   "metadata": {},
   "source": [
    "## Time-related analyses"
   ]
  },
  {
   "cell_type": "code",
   "execution_count": 178,
   "id": "1985b90f",
   "metadata": {},
   "outputs": [],
   "source": [
    "month_bar = df2.groupby([\"member_casual\",\"month\"])[\"ride_length\"].count()"
   ]
  },
  {
   "cell_type": "code",
   "execution_count": 182,
   "id": "33336f33",
   "metadata": {},
   "outputs": [
    {
     "data": {
      "image/png": "[encoded data removed]",
      "text/plain": [
       "<Figure size 1080x576 with 2 Axes>"
      ]
     },
     "metadata": {},
     "output_type": "display_data"
    }
   ],
   "source": [
    "fig,ax = plt.subplots(1,2, figsize = (15,8))\n",
    "\n",
    "ax1 = month_bar[\"casual\"].plot.bar(ax =ax[0], title = 'casual', ylabel = 'Total Ride')\n",
    "ax1.yaxis.set_major_formatter(ticker.EngFormatter())\n",
    "\n",
    "\n",
    "ax2 = month_bar[\"member\"].plot.bar(ax =ax[1], title = 'member', color= '#FF7F41FF', ylabel = 'Total Ride')\n",
    "ax2.yaxis.set_major_formatter(ticker.EngFormatter())\n",
    "\n",
    "fig.suptitle('Distribution of Total Ride by Month and Casual vs. Member Riders')\n",
    "\n",
    "\n",
    "plt.show()"
   ]
  },
  {
   "cell_type": "markdown",
   "id": "93994df5",
   "metadata": {},
   "source": [
    "The above figure shows that the number of ride peaks during summer (Jun to Sep) for both casuals and members while it's the lowest during the winter, specially on February"
   ]
  },
  {
   "cell_type": "markdown",
   "id": "5c7f07bf",
   "metadata": {},
   "source": [
    "I also distributed the number of riders per day in a month to identify what part of the month has the most number of riders (excluding day 31 since not all months has it). While the data below shows consistent pattern in number of riders, the distribution is decreasing towards the end of the month"
   ]
  },
  {
   "cell_type": "code",
   "execution_count": 183,
   "id": "f033773f",
   "metadata": {},
   "outputs": [],
   "source": [
    "date_bar = df2.groupby([\"member_casual\",\"date\"])[\"ride_length\"].count()"
   ]
  },
  {
   "cell_type": "code",
   "execution_count": 184,
   "id": "1bb52b31",
   "metadata": {
    "scrolled": true
   },
   "outputs": [
    {
     "data": {
      "image/png": "[encoded data removed]",
      "text/plain": [
       "<Figure size 1080x576 with 2 Axes>"
      ]
     },
     "metadata": {},
     "output_type": "display_data"
    }
   ],
   "source": [
    "fig,ax = plt.subplots(1,2, figsize = (15,8))\n",
    "\n",
    "ax1 = date_bar[\"casual\"].plot.bar(ax =ax[0], title = 'casual', ylabel = 'Total Ride')\n",
    "ax1.yaxis.set_major_formatter(ticker.EngFormatter())\n",
    "\n",
    "\n",
    "ax2 = date_bar[\"member\"].plot.bar(ax =ax[1], title = 'member', color='#FF7F41FF', ylabel = 'Total Ride')\n",
    "ax2.yaxis.set_major_formatter(ticker.EngFormatter())\n",
    "\n",
    "fig.suptitle('Distribution of Total Ride by Month and Casual vs. Member Riders')\n",
    "\n",
    "\n",
    "plt.show()"
   ]
  },
  {
   "cell_type": "markdown",
   "id": "a414c4d7",
   "metadata": {},
   "source": [
    "I also checked which day in a week has the most/least number of riders"
   ]
  },
  {
   "cell_type": "code",
   "execution_count": 185,
   "id": "6771b5d7",
   "metadata": {},
   "outputs": [],
   "source": [
    "day_bar = df2.groupby([\"member_casual\",\"day\"])[\"ride_length\"].agg([len, np.mean])"
   ]
  },
  {
   "cell_type": "code",
   "execution_count": 186,
   "id": "0b71a03c",
   "metadata": {},
   "outputs": [
    {
     "data": {
      "image/png": "[encoded data removed]",
      "text/plain": [
       "<Figure size 1080x576 with 2 Axes>"
      ]
     },
     "metadata": {},
     "output_type": "display_data"
    }
   ],
   "source": [
    "fig,ax = plt.subplots(1,2, figsize = (15,8))\n",
    "\n",
    "ax1 = day_bar.loc[\"casual\", \"len\"].plot.bar(ax =ax[0], title = 'casual', ylabel = 'Total Ride')\n",
    "ax1.yaxis.set_major_formatter(ticker.EngFormatter())\n",
    "\n",
    "ax2 = day_bar.loc[\"member\",\"len\"].plot.bar(ax =ax[1], title = 'member' , color= '#FF7F41FF', ylabel = 'Total Ride')\n",
    "ax2.yaxis.set_major_formatter(ticker.EngFormatter())\n",
    "\n",
    "fig.suptitle('Distribution of Total Ride by Month and Casual vs. Member Riders')\n",
    "\n",
    "plt.show()"
   ]
  },
  {
   "cell_type": "markdown",
   "id": "d71c7716",
   "metadata": {},
   "source": [
    "We can see in the above figures that we have the highest number of casual riders during the weekend (Sat-Sun).\n",
    "While number of members do not show significant difference for each day, we can see that the number of member riders decrease towards the end of the week."
   ]
  },
  {
   "cell_type": "markdown",
   "id": "a7afb026",
   "metadata": {},
   "source": [
    "Meanwhile, it shows in the below figures that both casual and member riders have a higher average length of ride during the weekends"
   ]
  },
  {
   "cell_type": "code",
   "execution_count": 187,
   "id": "71b4fc51",
   "metadata": {},
   "outputs": [
    {
     "data": {
      "image/png": "[encoded data removed]",
      "text/plain": [
       "<Figure size 1080x576 with 2 Axes>"
      ]
     },
     "metadata": {},
     "output_type": "display_data"
    }
   ],
   "source": [
    "fig,ax = plt.subplots(1,2, figsize = (15,8))\n",
    "\n",
    "ax1 = day_bar.loc[\"casual\", \"mean\"].plot.bar(ax =ax[0], title = 'casual', ylabel = 'Total Ride')\n",
    "ax1.yaxis.set_major_formatter(ticker.EngFormatter())\n",
    "\n",
    "ax2 = day_bar.loc[\"member\",\"mean\"].plot.bar(ax =ax[1], title = 'member' , color= '#FF7F41FF', ylabel = 'Avg. Ride Length')\n",
    "ax2.yaxis.set_major_formatter(ticker.EngFormatter())\n",
    "\n",
    "fig.suptitle('Distribution of Avg. Ride Length by Month and Casual vs. Member Riders')\n",
    "\n",
    "plt.show()"
   ]
  },
  {
   "cell_type": "code",
   "execution_count": 188,
   "id": "c9834567",
   "metadata": {},
   "outputs": [],
   "source": [
    "hour_line = df2.pivot_table(index = \"hour\", columns = \"member_casual\", values = \"ride_length\", aggfunc = len)"
   ]
  },
  {
   "cell_type": "code",
   "execution_count": 189,
   "id": "83017fff",
   "metadata": {},
   "outputs": [
    {
     "data": {
      "image/png": "[encoded data removed]",
      "text/plain": [
       "<Figure size 576x396 with 1 Axes>"
      ]
     },
     "metadata": {},
     "output_type": "display_data"
    }
   ],
   "source": [
    "ax = hour_line.plot(marker = 'o', ylabel = \"Total Ride\", title = \"Distribution of Total Ride by Time (In Hours) and Casual vs. Member Riders\")\n",
    "ax.yaxis.set_major_formatter(ticker.EngFormatter())\n",
    "ax.set_xticks(hour_line.index)\n",
    "\n",
    "plt.show()"
   ]
  },
  {
   "cell_type": "markdown",
   "id": "21673339",
   "metadata": {},
   "source": [
    "The above shows that the number of riders is the highest at around 4PM to 6PM while lowest towards the end of the day from 8PM"
   ]
  },
  {
   "cell_type": "markdown",
   "id": "ddfd9c81",
   "metadata": {},
   "source": [
    "## Analysis of the area"
   ]
  },
  {
   "cell_type": "markdown",
   "id": "7e72b7dc",
   "metadata": {},
   "source": [
    "Below figures show the **Top START Stations** in terms of Total rides"
   ]
  },
  {
   "cell_type": "code",
   "execution_count": 193,
   "id": "b1bc3a21",
   "metadata": {},
   "outputs": [],
   "source": [
    "# Excluded the Start Station names with null values \n",
    "ss_bar = df2.groupby([\"member_casual\",\"start_station_name\"])[\"ride_length\"].count().sort_values(ascending = False)"
   ]
  },
  {
   "cell_type": "code",
   "execution_count": 194,
   "id": "69e5271d",
   "metadata": {},
   "outputs": [
    {
     "data": {
      "image/png": "[encoded data removed]",
      "text/plain": [
       "<Figure size 576x396 with 1 Axes>"
      ]
     },
     "metadata": {},
     "output_type": "display_data"
    }
   ],
   "source": [
    "ax = ss_bar.loc[\"casual\"][:10].plot.barh()\n",
    "ax.invert_yaxis()\n",
    "ax.set(xlabel = 'Total Ride', title = \"Top 10 Start Station Name by Casual Riders\")\n",
    "\n",
    "\n",
    "plt.show()"
   ]
  },
  {
   "cell_type": "markdown",
   "id": "27fbb3d4",
   "metadata": {},
   "source": [
    "**Streeter Drive & Grand Avenue** has the highest number of Total Rides for *Casual* riders"
   ]
  },
  {
   "cell_type": "code",
   "execution_count": 197,
   "id": "cfd96cbd",
   "metadata": {},
   "outputs": [
    {
     "data": {
      "image/png": "[encoded data removed]",
      "text/plain": [
       "<Figure size 576x396 with 1 Axes>"
      ]
     },
     "metadata": {},
     "output_type": "display_data"
    }
   ],
   "source": [
    "ax = ss_bar.loc[\"member\"][:10].plot.barh(color= '#FF7F41FF')\n",
    "ax.invert_yaxis()\n",
    "ax.set(xlabel = 'Total Ride', title = \"Top 10 Start Station Name by Member Riders\")\n",
    "\n",
    "\n",
    "plt.show()"
   ]
  },
  {
   "cell_type": "markdown",
   "id": "ee74860c",
   "metadata": {},
   "source": [
    "**Clark Street and Elm Street** has the highest number of Total Rides for *Member* riders"
   ]
  },
  {
   "cell_type": "markdown",
   "id": "1d677b56",
   "metadata": {},
   "source": [
    "Below figures show the **Top END Stations** in terms of Total rides"
   ]
  },
  {
   "cell_type": "code",
   "execution_count": 198,
   "id": "33bfe86f",
   "metadata": {},
   "outputs": [],
   "source": [
    "# Also excluding null\n",
    "es_bar = df2.groupby([\"member_casual\",\"end_station_name\"])[\"ride_length\"].count().sort_values(ascending = False)"
   ]
  },
  {
   "cell_type": "code",
   "execution_count": 199,
   "id": "78299a7b",
   "metadata": {},
   "outputs": [
    {
     "data": {
      "image/png": "[encoded data removed]",
      "text/plain": [
       "<Figure size 576x396 with 1 Axes>"
      ]
     },
     "metadata": {},
     "output_type": "display_data"
    }
   ],
   "source": [
    "ax = es_bar.loc[\"casual\"][:10].plot.barh()\n",
    "ax.invert_yaxis()\n",
    "ax.set(xlabel = 'Total Ride', title = \"Top 10 End Station Name by Casual Riders\")\n",
    "\n",
    "\n",
    "plt.show()"
   ]
  },
  {
   "cell_type": "code",
   "execution_count": 200,
   "id": "f5b2a213",
   "metadata": {},
   "outputs": [
    {
     "data": {
      "image/png": "[encoded data removed]",
      "text/plain": [
       "<Figure size 576x396 with 1 Axes>"
      ]
     },
     "metadata": {},
     "output_type": "display_data"
    }
   ],
   "source": [
    "ax = es_bar.loc[\"member\"][:10].plot.barh(color= '#FF7F41FF')\n",
    "ax.invert_yaxis()\n",
    "ax.set(xlabel = 'Total Ride', title = \"Top 10 End Station Name by Member Riders\")\n",
    "\n",
    "\n",
    "plt.show()"
   ]
  },
  {
   "cell_type": "markdown",
   "id": "a7b51ac2",
   "metadata": {},
   "source": [
    "**Same stations** have the highest total ride for End stations"
   ]
  },
  {
   "cell_type": "markdown",
   "id": "c22b0329",
   "metadata": {},
   "source": [
    "# Conclusion"
   ]
  },
  {
   "cell_type": "markdown",
   "id": "8dafda2b",
   "metadata": {},
   "source": [
    "The above data will be used by the team to design a new marketing strategy. The goal is to convert *casual* riders into ***annual members***. "
   ]
  },
  {
   "cell_type": "markdown",
   "id": "1a839670",
   "metadata": {},
   "source": [
    "### Summary\n",
    "1. While there are more **members** than **casual** riders, **casual** riders have a higher Total and Average ride length. \n",
    "2. Both casual and member riders prefer to use **classic bikes** the most. Then others use electric bikes and least of them use docked bikes\n",
    "3. Total rides are highest during the summer, particularly July for Casual and August for Members, and lowest during the winter, particularly February for both member and casual riders.\n",
    "4. Both rides are at lowest point at the end of every month. Total ride is highest during the weekend for **casual** riders while the number decreases towards the end of the week for **members**. Highest number of riders happen at 4PM-6PM of the day and lowest from  8PM onwards.\n",
    "5. **Streeter Drive & Grand Avenue** and **Clark Street and Elm Street** have the highest total rides as a Start and End point"
   ]
  },
  {
   "cell_type": "markdown",
   "id": "1c387863",
   "metadata": {},
   "source": [
    "### Recommendations\n",
    "\n",
    "- Identify which of our casual customer bikes during the **weekend around 4PM to 6PM with longer average ride duration** \n",
    "- **Promotions**: We can offer casual riders promotions that will encourage subscription as a member\n",
    "    - Lower price during the summer period\n",
    "    - Lower price/weekend special offers"
   ]
  }
 ],
 "metadata": {
  "kernelspec": {
   "display_name": "Python 3 (ipykernel)",
   "language": "python",
   "name": "python3"
  },
  "language_info": {
   "codemirror_mode": {
    "name": "ipython",
    "version": 3
   },
   "file_extension": ".py",
   "mimetype": "text/x-python",
   "name": "python",
   "nbconvert_exporter": "python",
   "pygments_lexer": "ipython3",
   "version": "3.9.12"
  }
 },
 "nbformat": 4,
 "nbformat_minor": 5
}
